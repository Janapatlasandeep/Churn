{
 "cells": [
  {
   "cell_type": "code",
   "execution_count": 1,
   "id": "ffcf300c-95a1-4125-9e31-af1cdf93d202",
   "metadata": {},
   "outputs": [],
   "source": [
    "import warnings\n",
    "warnings.filterwarnings(\"ignore\")"
   ]
  },
  {
   "cell_type": "code",
   "execution_count": 2,
   "id": "5eebb351-8266-4af6-bbec-8836c36fbee8",
   "metadata": {},
   "outputs": [],
   "source": [
    "import numpy as np\n",
    "import pandas as pd"
   ]
  },
  {
   "cell_type": "code",
   "execution_count": 3,
   "id": "aff5d941-3ce0-4e69-828f-51be30dd3eba",
   "metadata": {},
   "outputs": [],
   "source": [
    "df = pd.read_csv(r\"C:\\Users\\pc world\\Telco-Customer-Churn.csv\")"
   ]
  },
  {
   "cell_type": "code",
   "execution_count": 4,
   "id": "eb715bd6-54b0-40eb-98d2-22f480e77e3c",
   "metadata": {},
   "outputs": [],
   "source": [
    "df['TotalCharges'] = pd.to_numeric(df['TotalCharges'], errors='coerce')"
   ]
  },
  {
   "cell_type": "code",
   "execution_count": 5,
   "id": "e167b1eb-43a9-45e8-ae2b-9c87a04ead5a",
   "metadata": {},
   "outputs": [],
   "source": [
    "df[['OnlineSecurity','OnlineBackup','DeviceProtection','TechSupport','StreamingTV','StreamingMovies']] = df[['OnlineSecurity','OnlineBackup','DeviceProtection','TechSupport','StreamingTV','StreamingMovies']].replace('No internet service', 'No')"
   ]
  },
  {
   "cell_type": "code",
   "execution_count": 6,
   "id": "75692c26-1889-4f47-bc08-6bf36125820d",
   "metadata": {},
   "outputs": [],
   "source": [
    "cont = ['SeniorCitizen','tenure',\"MonthlyCharges\",\"TotalCharges\"]\n",
    "ordi = [\"Contract\"]\n",
    "nomi = ['Churn','gender','Partner','Dependents','PhoneService',\"MultipleLines\",\"InternetService\",\"OnlineSecurity\",\"OnlineBackup\",\"DeviceProtection\",\"TechSupport\",\"StreamingTV\",\"StreamingMovies\",\"PaperlessBilling\",\"PaymentMethod\",]"
   ]
  },
  {
   "cell_type": "code",
   "execution_count": 7,
   "id": "b9f6fb69-db13-4a28-b0bf-db91f1490823",
   "metadata": {},
   "outputs": [],
   "source": [
    "from sklearn.impute import SimpleImputer"
   ]
  },
  {
   "cell_type": "code",
   "execution_count": 8,
   "id": "2888e1b5-cb4c-4ed9-9722-a1c9ffa347ea",
   "metadata": {},
   "outputs": [],
   "source": [
    "cont_impute = SimpleImputer(strategy='mean')\n",
    "ordi_impute = SimpleImputer(strategy='most_frequent')\n",
    "nomi_impute = SimpleImputer(strategy='most_frequent')"
   ]
  },
  {
   "cell_type": "code",
   "execution_count": 9,
   "id": "44b04301-ebf4-42f0-94bd-13b843e9a72f",
   "metadata": {},
   "outputs": [],
   "source": [
    "df[cont] = cont_impute.fit_transform(df[cont])\n",
    "df[ordi] = ordi_impute.fit_transform(df[ordi])\n",
    "df[nomi] = nomi_impute.fit_transform(df[nomi])"
   ]
  },
  {
   "cell_type": "code",
   "execution_count": 10,
   "id": "02acfd06-a444-4a59-a236-b6cb21e3705c",
   "metadata": {},
   "outputs": [],
   "source": [
    "from sklearn.preprocessing import OrdinalEncoder,OneHotEncoder"
   ]
  },
  {
   "cell_type": "code",
   "execution_count": 11,
   "id": "0f292cd0-1704-414b-af52-9e9b509028be",
   "metadata": {},
   "outputs": [],
   "source": [
    "ordinal  = {\n",
    "    \"Contract\":['Month-to-month', 'One year', 'Two year'],\n",
    "      }"
   ]
  },
  {
   "cell_type": "code",
   "execution_count": 12,
   "id": "548c6d4d-ffd7-47fb-be8b-f39ed907c994",
   "metadata": {},
   "outputs": [],
   "source": [
    "oe = OrdinalEncoder(categories=[ordinal[\"Contract\"]],                                \n",
    "                   dtype='int')"
   ]
  },
  {
   "cell_type": "code",
   "execution_count": 13,
   "id": "187e111e-b4f5-4a4e-a5ba-e81924d12a76",
   "metadata": {},
   "outputs": [],
   "source": [
    "df[ordi] = oe.fit_transform(df[ordi])"
   ]
  },
  {
   "cell_type": "code",
   "execution_count": 14,
   "id": "2292fc5f-b70e-4a0a-b53b-0f0fa9cb270b",
   "metadata": {},
   "outputs": [],
   "source": [
    "ohe = OneHotEncoder(drop = 'first',sparse_output=True)"
   ]
  },
  {
   "cell_type": "code",
   "execution_count": 15,
   "id": "ae583e3d-8ae2-4f24-b704-b3884c3fcfd4",
   "metadata": {},
   "outputs": [],
   "source": [
    "df1 = pd.DataFrame(ohe.fit_transform(df[nomi]).toarray(),columns=ohe.get_feature_names_out())"
   ]
  },
  {
   "cell_type": "code",
   "execution_count": 16,
   "id": "fc407623-80c1-4ace-a67b-e78f1beeda16",
   "metadata": {},
   "outputs": [],
   "source": [
    "df.drop(nomi,axis =1 ,inplace = True)"
   ]
  },
  {
   "cell_type": "code",
   "execution_count": 17,
   "id": "765bee77-1bb6-40c7-82e9-b8903c89968c",
   "metadata": {},
   "outputs": [],
   "source": [
    "df = pd.concat([df,df1],axis = 1)"
   ]
  },
  {
   "cell_type": "code",
   "execution_count": 18,
   "id": "f5d40e5e-44f2-4900-982f-7dc564a5b911",
   "metadata": {},
   "outputs": [],
   "source": [
    "df.drop(\"customerID\",axis = 1, inplace = True)"
   ]
  },
  {
   "cell_type": "code",
   "execution_count": 19,
   "id": "34fb2214-1c0f-4bfc-9ef6-d617f6fbe46a",
   "metadata": {},
   "outputs": [
    {
     "data": {
      "text/html": [
       "<div>\n",
       "<style scoped>\n",
       "    .dataframe tbody tr th:only-of-type {\n",
       "        vertical-align: middle;\n",
       "    }\n",
       "\n",
       "    .dataframe tbody tr th {\n",
       "        vertical-align: top;\n",
       "    }\n",
       "\n",
       "    .dataframe thead th {\n",
       "        text-align: right;\n",
       "    }\n",
       "</style>\n",
       "<table border=\"1\" class=\"dataframe\">\n",
       "  <thead>\n",
       "    <tr style=\"text-align: right;\">\n",
       "      <th></th>\n",
       "      <th>SeniorCitizen</th>\n",
       "      <th>tenure</th>\n",
       "      <th>Contract</th>\n",
       "      <th>MonthlyCharges</th>\n",
       "      <th>TotalCharges</th>\n",
       "      <th>Churn_Yes</th>\n",
       "      <th>gender_Male</th>\n",
       "      <th>Partner_Yes</th>\n",
       "      <th>Dependents_Yes</th>\n",
       "      <th>PhoneService_Yes</th>\n",
       "      <th>...</th>\n",
       "      <th>OnlineSecurity_Yes</th>\n",
       "      <th>OnlineBackup_Yes</th>\n",
       "      <th>DeviceProtection_Yes</th>\n",
       "      <th>TechSupport_Yes</th>\n",
       "      <th>StreamingTV_Yes</th>\n",
       "      <th>StreamingMovies_Yes</th>\n",
       "      <th>PaperlessBilling_Yes</th>\n",
       "      <th>PaymentMethod_Credit card (automatic)</th>\n",
       "      <th>PaymentMethod_Electronic check</th>\n",
       "      <th>PaymentMethod_Mailed check</th>\n",
       "    </tr>\n",
       "  </thead>\n",
       "  <tbody>\n",
       "    <tr>\n",
       "      <th>0</th>\n",
       "      <td>0.0</td>\n",
       "      <td>1.0</td>\n",
       "      <td>0</td>\n",
       "      <td>29.85</td>\n",
       "      <td>29.85</td>\n",
       "      <td>0.0</td>\n",
       "      <td>0.0</td>\n",
       "      <td>1.0</td>\n",
       "      <td>0.0</td>\n",
       "      <td>0.0</td>\n",
       "      <td>...</td>\n",
       "      <td>0.0</td>\n",
       "      <td>1.0</td>\n",
       "      <td>0.0</td>\n",
       "      <td>0.0</td>\n",
       "      <td>0.0</td>\n",
       "      <td>0.0</td>\n",
       "      <td>1.0</td>\n",
       "      <td>0.0</td>\n",
       "      <td>1.0</td>\n",
       "      <td>0.0</td>\n",
       "    </tr>\n",
       "    <tr>\n",
       "      <th>1</th>\n",
       "      <td>0.0</td>\n",
       "      <td>34.0</td>\n",
       "      <td>1</td>\n",
       "      <td>56.95</td>\n",
       "      <td>1889.50</td>\n",
       "      <td>0.0</td>\n",
       "      <td>1.0</td>\n",
       "      <td>0.0</td>\n",
       "      <td>0.0</td>\n",
       "      <td>1.0</td>\n",
       "      <td>...</td>\n",
       "      <td>1.0</td>\n",
       "      <td>0.0</td>\n",
       "      <td>1.0</td>\n",
       "      <td>0.0</td>\n",
       "      <td>0.0</td>\n",
       "      <td>0.0</td>\n",
       "      <td>0.0</td>\n",
       "      <td>0.0</td>\n",
       "      <td>0.0</td>\n",
       "      <td>1.0</td>\n",
       "    </tr>\n",
       "    <tr>\n",
       "      <th>2</th>\n",
       "      <td>0.0</td>\n",
       "      <td>2.0</td>\n",
       "      <td>0</td>\n",
       "      <td>53.85</td>\n",
       "      <td>108.15</td>\n",
       "      <td>1.0</td>\n",
       "      <td>1.0</td>\n",
       "      <td>0.0</td>\n",
       "      <td>0.0</td>\n",
       "      <td>1.0</td>\n",
       "      <td>...</td>\n",
       "      <td>1.0</td>\n",
       "      <td>1.0</td>\n",
       "      <td>0.0</td>\n",
       "      <td>0.0</td>\n",
       "      <td>0.0</td>\n",
       "      <td>0.0</td>\n",
       "      <td>1.0</td>\n",
       "      <td>0.0</td>\n",
       "      <td>0.0</td>\n",
       "      <td>1.0</td>\n",
       "    </tr>\n",
       "    <tr>\n",
       "      <th>3</th>\n",
       "      <td>0.0</td>\n",
       "      <td>45.0</td>\n",
       "      <td>1</td>\n",
       "      <td>42.30</td>\n",
       "      <td>1840.75</td>\n",
       "      <td>0.0</td>\n",
       "      <td>1.0</td>\n",
       "      <td>0.0</td>\n",
       "      <td>0.0</td>\n",
       "      <td>0.0</td>\n",
       "      <td>...</td>\n",
       "      <td>1.0</td>\n",
       "      <td>0.0</td>\n",
       "      <td>1.0</td>\n",
       "      <td>1.0</td>\n",
       "      <td>0.0</td>\n",
       "      <td>0.0</td>\n",
       "      <td>0.0</td>\n",
       "      <td>0.0</td>\n",
       "      <td>0.0</td>\n",
       "      <td>0.0</td>\n",
       "    </tr>\n",
       "    <tr>\n",
       "      <th>4</th>\n",
       "      <td>0.0</td>\n",
       "      <td>2.0</td>\n",
       "      <td>0</td>\n",
       "      <td>70.70</td>\n",
       "      <td>151.65</td>\n",
       "      <td>1.0</td>\n",
       "      <td>0.0</td>\n",
       "      <td>0.0</td>\n",
       "      <td>0.0</td>\n",
       "      <td>1.0</td>\n",
       "      <td>...</td>\n",
       "      <td>0.0</td>\n",
       "      <td>0.0</td>\n",
       "      <td>0.0</td>\n",
       "      <td>0.0</td>\n",
       "      <td>0.0</td>\n",
       "      <td>0.0</td>\n",
       "      <td>1.0</td>\n",
       "      <td>0.0</td>\n",
       "      <td>1.0</td>\n",
       "      <td>0.0</td>\n",
       "    </tr>\n",
       "  </tbody>\n",
       "</table>\n",
       "<p>5 rows × 24 columns</p>\n",
       "</div>"
      ],
      "text/plain": [
       "   SeniorCitizen  tenure  Contract  MonthlyCharges  TotalCharges  Churn_Yes  \\\n",
       "0            0.0     1.0         0           29.85         29.85        0.0   \n",
       "1            0.0    34.0         1           56.95       1889.50        0.0   \n",
       "2            0.0     2.0         0           53.85        108.15        1.0   \n",
       "3            0.0    45.0         1           42.30       1840.75        0.0   \n",
       "4            0.0     2.0         0           70.70        151.65        1.0   \n",
       "\n",
       "   gender_Male  Partner_Yes  Dependents_Yes  PhoneService_Yes  ...  \\\n",
       "0          0.0          1.0             0.0               0.0  ...   \n",
       "1          1.0          0.0             0.0               1.0  ...   \n",
       "2          1.0          0.0             0.0               1.0  ...   \n",
       "3          1.0          0.0             0.0               0.0  ...   \n",
       "4          0.0          0.0             0.0               1.0  ...   \n",
       "\n",
       "   OnlineSecurity_Yes  OnlineBackup_Yes  DeviceProtection_Yes  \\\n",
       "0                 0.0               1.0                   0.0   \n",
       "1                 1.0               0.0                   1.0   \n",
       "2                 1.0               1.0                   0.0   \n",
       "3                 1.0               0.0                   1.0   \n",
       "4                 0.0               0.0                   0.0   \n",
       "\n",
       "   TechSupport_Yes  StreamingTV_Yes  StreamingMovies_Yes  \\\n",
       "0              0.0              0.0                  0.0   \n",
       "1              0.0              0.0                  0.0   \n",
       "2              0.0              0.0                  0.0   \n",
       "3              1.0              0.0                  0.0   \n",
       "4              0.0              0.0                  0.0   \n",
       "\n",
       "   PaperlessBilling_Yes  PaymentMethod_Credit card (automatic)  \\\n",
       "0                   1.0                                    0.0   \n",
       "1                   0.0                                    0.0   \n",
       "2                   1.0                                    0.0   \n",
       "3                   0.0                                    0.0   \n",
       "4                   1.0                                    0.0   \n",
       "\n",
       "   PaymentMethod_Electronic check  PaymentMethod_Mailed check  \n",
       "0                             1.0                         0.0  \n",
       "1                             0.0                         1.0  \n",
       "2                             0.0                         1.0  \n",
       "3                             0.0                         0.0  \n",
       "4                             1.0                         0.0  \n",
       "\n",
       "[5 rows x 24 columns]"
      ]
     },
     "execution_count": 19,
     "metadata": {},
     "output_type": "execute_result"
    }
   ],
   "source": [
    "df.head()"
   ]
  },
  {
   "cell_type": "code",
   "execution_count": 20,
   "id": "34c0e368-bc6c-40b4-b566-ec34dc86eba5",
   "metadata": {},
   "outputs": [],
   "source": [
    "X = df.drop(\"Churn_Yes\",axis = 1)\n",
    "y = df['Churn_Yes']"
   ]
  },
  {
   "cell_type": "code",
   "execution_count": 21,
   "id": "e1a8517a-4a34-4ff0-8b69-67eb0548c393",
   "metadata": {},
   "outputs": [],
   "source": [
    "from sklearn.model_selection import train_test_split\n",
    "from sklearn.metrics import accuracy_score,confusion_matrix\n",
    "from sklearn.metrics import roc_auc_score,make_scorer"
   ]
  },
  {
   "cell_type": "code",
   "execution_count": 22,
   "id": "59caaa8e-4f86-4be9-89e4-c0ccae8b0824",
   "metadata": {},
   "outputs": [],
   "source": [
    "X_train,X_test,y_train,y_test = train_test_split(X,y,test_size=0.2,random_state=23)"
   ]
  },
  {
   "cell_type": "markdown",
   "id": "f7c225cb-faee-4047-9a07-60cb6e2ef1c7",
   "metadata": {},
   "source": [
    "#### LR"
   ]
  },
  {
   "cell_type": "code",
   "execution_count": 23,
   "id": "6ff9066f-f22e-4cd1-8f16-aefe8fe1be93",
   "metadata": {},
   "outputs": [
    {
     "data": {
      "text/plain": [
       "0.8076650106458482"
      ]
     },
     "execution_count": 23,
     "metadata": {},
     "output_type": "execute_result"
    }
   ],
   "source": [
    "from sklearn.linear_model import LogisticRegression\n",
    "lr = LogisticRegression()\n",
    "lr.fit(X_train,y_train)\n",
    "y_pred = lr.predict(X_test)\n",
    "accuracy_score(y_test,y_pred)"
   ]
  },
  {
   "cell_type": "code",
   "execution_count": 24,
   "id": "6354c31d-4f33-41b1-8618-1486aa1f6733",
   "metadata": {},
   "outputs": [
    {
     "data": {
      "text/plain": [
       "0.8400901605169898"
      ]
     },
     "execution_count": 24,
     "metadata": {},
     "output_type": "execute_result"
    }
   ],
   "source": [
    "y_prob = lr.predict_proba(X_test)[:,1]\n",
    "roc_auc_score(y_test,y_prob)"
   ]
  },
  {
   "cell_type": "code",
   "execution_count": 28,
   "id": "6234f5f8-9b90-4569-aa9e-71612acccfed",
   "metadata": {},
   "outputs": [
    {
     "name": "stdout",
     "output_type": "stream",
     "text": [
      "<class 'pandas.core.frame.DataFrame'>\n",
      "RangeIndex: 7043 entries, 0 to 7042\n",
      "Data columns (total 24 columns):\n",
      " #   Column                                 Non-Null Count  Dtype  \n",
      "---  ------                                 --------------  -----  \n",
      " 0   SeniorCitizen                          7043 non-null   float64\n",
      " 1   tenure                                 7043 non-null   float64\n",
      " 2   Contract                               7043 non-null   int32  \n",
      " 3   MonthlyCharges                         7043 non-null   float64\n",
      " 4   TotalCharges                           7043 non-null   float64\n",
      " 5   Churn_Yes                              7043 non-null   float64\n",
      " 6   gender_Male                            7043 non-null   float64\n",
      " 7   Partner_Yes                            7043 non-null   float64\n",
      " 8   Dependents_Yes                         7043 non-null   float64\n",
      " 9   PhoneService_Yes                       7043 non-null   float64\n",
      " 10  MultipleLines_No phone service         7043 non-null   float64\n",
      " 11  MultipleLines_Yes                      7043 non-null   float64\n",
      " 12  InternetService_Fiber optic            7043 non-null   float64\n",
      " 13  InternetService_No                     7043 non-null   float64\n",
      " 14  OnlineSecurity_Yes                     7043 non-null   float64\n",
      " 15  OnlineBackup_Yes                       7043 non-null   float64\n",
      " 16  DeviceProtection_Yes                   7043 non-null   float64\n",
      " 17  TechSupport_Yes                        7043 non-null   float64\n",
      " 18  StreamingTV_Yes                        7043 non-null   float64\n",
      " 19  StreamingMovies_Yes                    7043 non-null   float64\n",
      " 20  PaperlessBilling_Yes                   7043 non-null   float64\n",
      " 21  PaymentMethod_Credit card (automatic)  7043 non-null   float64\n",
      " 22  PaymentMethod_Electronic check         7043 non-null   float64\n",
      " 23  PaymentMethod_Mailed check             7043 non-null   float64\n",
      "dtypes: float64(23), int32(1)\n",
      "memory usage: 1.3 MB\n"
     ]
    }
   ],
   "source": [
    "df.info()"
   ]
  },
  {
   "cell_type": "markdown",
   "id": "49ea2649-611b-4c9c-ad91-63f4b54c62f3",
   "metadata": {},
   "source": [
    "#### ML Model:"
   ]
  },
  {
   "cell_type": "code",
   "execution_count": 44,
   "id": "05841c7d-ccea-451f-b465-1427b650fb0c",
   "metadata": {},
   "outputs": [],
   "source": [
    "import pandas as pd\n",
    "from sklearn.pipeline import Pipeline\n",
    "from sklearn.compose import ColumnTransformer\n",
    "from sklearn.preprocessing import StandardScaler\n",
    "from sklearn.impute import SimpleImputer\n",
    "from sklearn.linear_model import LogisticRegression\n",
    "\n",
    "data = pd.DataFrame(columns=range(23))  \n",
    "\n",
    "numerical_features = list(range(data.shape[1]))\n",
    "\n",
    "numeric_transformer = Pipeline(steps=[\n",
    "    ('imputer', SimpleImputer(strategy='median')),\n",
    "    ('scaler', StandardScaler())\n",
    "])\n",
    "\n",
    "preprocessor = ColumnTransformer(\n",
    "    transformers=[\n",
    "        ('num', numeric_transformer, numerical_features)\n",
    "    ]\n",
    ")\n",
    "\n",
    "pipeline = Pipeline(steps=[\n",
    "    ('preprocessor', preprocessor),\n",
    "    ('classifier', LogisticRegression())\n",
    "])"
   ]
  },
  {
   "cell_type": "code",
   "execution_count": 45,
   "id": "3b2980e5-10e0-496c-a7b8-137516cd30fb",
   "metadata": {},
   "outputs": [],
   "source": [
    "X = df.drop('Churn_Yes',axis = 1)\n",
    "y = df['Churn_Yes']"
   ]
  },
  {
   "cell_type": "code",
   "execution_count": 46,
   "id": "aabc6598-e4b9-49bd-99d6-ddc97b7dc7d7",
   "metadata": {},
   "outputs": [],
   "source": [
    "from sklearn.model_selection import train_test_split\n",
    "from sklearn.metrics import accuracy_score"
   ]
  },
  {
   "cell_type": "code",
   "execution_count": 47,
   "id": "da90195c-f466-415d-831c-e4ca574b5b1f",
   "metadata": {},
   "outputs": [],
   "source": [
    "X_train,X_test,y_train,y_test = train_test_split(X,y,test_size=0.2,random_state=23)"
   ]
  },
  {
   "cell_type": "code",
   "execution_count": 48,
   "id": "8e4212d8-2264-4177-971b-c7cb44b8a397",
   "metadata": {},
   "outputs": [
    {
     "data": {
      "text/plain": [
       "0.8026969481902059"
      ]
     },
     "execution_count": 48,
     "metadata": {},
     "output_type": "execute_result"
    }
   ],
   "source": [
    "pipeline.fit(X_train,y_train)\n",
    "y_pred = pipeline.predict(X_test)\n",
    "accuracy_score(y_test,y_pred)\n"
   ]
  },
  {
   "cell_type": "code",
   "execution_count": null,
   "id": "d3200994-dcfa-4323-a529-1ce024dea510",
   "metadata": {},
   "outputs": [],
   "source": []
  },
  {
   "cell_type": "code",
   "execution_count": null,
   "id": "81bd176a-68a0-4535-ac2d-ef4957513c70",
   "metadata": {},
   "outputs": [],
   "source": []
  },
  {
   "cell_type": "code",
   "execution_count": 49,
   "id": "a15f4052-e5f6-4b1e-a83d-0da89ab55a8a",
   "metadata": {},
   "outputs": [],
   "source": [
    "import pickle"
   ]
  },
  {
   "cell_type": "code",
   "execution_count": 50,
   "id": "40867d91-39eb-46a1-865f-ad16012a1f73",
   "metadata": {},
   "outputs": [],
   "source": [
    "pickle.dump(model,open(\"prediction_pl.pkl\",\"wb\"))"
   ]
  },
  {
   "cell_type": "code",
   "execution_count": 51,
   "id": "d0e3bc2e-2ca8-465b-a171-390e7f87ee4c",
   "metadata": {},
   "outputs": [],
   "source": [
    "model_pickled = pickle.load(open(\"prediction_pl.pkl\",\"rb\"))"
   ]
  },
  {
   "cell_type": "code",
   "execution_count": null,
   "id": "ae7b619b-a199-4427-b83b-16cfc0b71e6b",
   "metadata": {},
   "outputs": [],
   "source": []
  },
  {
   "cell_type": "code",
   "execution_count": 54,
   "id": "69b269c9-4e96-4da9-89e1-1a034a35cc75",
   "metadata": {},
   "outputs": [
    {
     "data": {
      "text/plain": [
       "array(['SeniorCitizen', 'tenure', 'Contract', 'MonthlyCharges',\n",
       "       'TotalCharges', 'gender_Male', 'Partner_Yes', 'Dependents_Yes',\n",
       "       'PhoneService_Yes', 'MultipleLines_No phone service',\n",
       "       'MultipleLines_Yes', 'InternetService_Fiber optic',\n",
       "       'InternetService_No', 'OnlineSecurity_Yes', 'OnlineBackup_Yes',\n",
       "       'DeviceProtection_Yes', 'TechSupport_Yes', 'StreamingTV_Yes',\n",
       "       'StreamingMovies_Yes', 'PaperlessBilling_Yes',\n",
       "       'PaymentMethod_Credit card (automatic)',\n",
       "       'PaymentMethod_Electronic check', 'PaymentMethod_Mailed check'],\n",
       "      dtype=object)"
      ]
     },
     "execution_count": 54,
     "metadata": {},
     "output_type": "execute_result"
    }
   ],
   "source": [
    "model.feature_names_in_"
   ]
  },
  {
   "cell_type": "code",
   "execution_count": 53,
   "id": "c579ccd6-61e5-4875-9fbf-277e742b526b",
   "metadata": {},
   "outputs": [
    {
     "name": "stdout",
     "output_type": "stream",
     "text": [
      "<class 'pandas.core.frame.DataFrame'>\n",
      "RangeIndex: 7043 entries, 0 to 7042\n",
      "Data columns (total 24 columns):\n",
      " #   Column                                 Non-Null Count  Dtype  \n",
      "---  ------                                 --------------  -----  \n",
      " 0   SeniorCitizen                          7043 non-null   float64\n",
      " 1   tenure                                 7043 non-null   float64\n",
      " 2   Contract                               7043 non-null   int32  \n",
      " 3   MonthlyCharges                         7043 non-null   float64\n",
      " 4   TotalCharges                           7043 non-null   float64\n",
      " 5   Churn_Yes                              7043 non-null   float64\n",
      " 6   gender_Male                            7043 non-null   float64\n",
      " 7   Partner_Yes                            7043 non-null   float64\n",
      " 8   Dependents_Yes                         7043 non-null   float64\n",
      " 9   PhoneService_Yes                       7043 non-null   float64\n",
      " 10  MultipleLines_No phone service         7043 non-null   float64\n",
      " 11  MultipleLines_Yes                      7043 non-null   float64\n",
      " 12  InternetService_Fiber optic            7043 non-null   float64\n",
      " 13  InternetService_No                     7043 non-null   float64\n",
      " 14  OnlineSecurity_Yes                     7043 non-null   float64\n",
      " 15  OnlineBackup_Yes                       7043 non-null   float64\n",
      " 16  DeviceProtection_Yes                   7043 non-null   float64\n",
      " 17  TechSupport_Yes                        7043 non-null   float64\n",
      " 18  StreamingTV_Yes                        7043 non-null   float64\n",
      " 19  StreamingMovies_Yes                    7043 non-null   float64\n",
      " 20  PaperlessBilling_Yes                   7043 non-null   float64\n",
      " 21  PaymentMethod_Credit card (automatic)  7043 non-null   float64\n",
      " 22  PaymentMethod_Electronic check         7043 non-null   float64\n",
      " 23  PaymentMethod_Mailed check             7043 non-null   float64\n",
      "dtypes: float64(23), int32(1)\n",
      "memory usage: 1.3 MB\n"
     ]
    }
   ],
   "source": [
    "df.info()"
   ]
  },
  {
   "cell_type": "code",
   "execution_count": null,
   "id": "49be686a-d4d7-4f3a-ac5b-c26e92c1cfcb",
   "metadata": {},
   "outputs": [],
   "source": []
  }
 ],
 "metadata": {
  "kernelspec": {
   "display_name": "Python 3 (ipykernel)",
   "language": "python",
   "name": "python3"
  },
  "language_info": {
   "codemirror_mode": {
    "name": "ipython",
    "version": 3
   },
   "file_extension": ".py",
   "mimetype": "text/x-python",
   "name": "python",
   "nbconvert_exporter": "python",
   "pygments_lexer": "ipython3",
   "version": "3.11.7"
  }
 },
 "nbformat": 4,
 "nbformat_minor": 5
}
